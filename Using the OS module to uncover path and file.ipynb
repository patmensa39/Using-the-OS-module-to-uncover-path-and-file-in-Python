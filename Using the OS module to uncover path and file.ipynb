{
 "cells": [
  {
   "cell_type": "code",
   "execution_count": null,
   "metadata": {},
   "outputs": [],
   "source": [
    "# Using the OS module to uncover path and file \n",
    "# first set your working directory\n",
    "from datetime import datetime\n",
    "import os"
   ]
  },
  {
   "cell_type": "code",
   "execution_count": null,
   "metadata": {},
   "outputs": [],
   "source": [
    "def set_working_directory(folder_path):\n",
    "    os.chdir(folder_path)\n",
    "    new_directory = os.getcwd()\n",
    "    print(\"Patrick's Current working directory is set to:\", new_directory)\n",
    "\n",
    "# Set the working directory back to the original folder\n",
    "folder_path = r\"C:\\Users\\patme\\OneDrive\\Desktop\\Data_Science\\Python\\codes\"\n",
    "set_working_directory(folder_path)"
   ]
  },
  {
   "cell_type": "code",
   "execution_count": null,
   "metadata": {},
   "outputs": [],
   "source": [
    "# Function to display the date the files were created\n",
    "def format_datetime(timestamp):\n",
    "    utc_timestamp = datetime.utcfromtimestamp(timestamp)\n",
    "    formated_date = utc_timestamp.strftime(\"%d %b %Y %H %M %S\")\n",
    "    return formated_date\n",
    "\n",
    "\n",
    "\n"
   ]
  },
  {
   "cell_type": "code",
   "execution_count": null,
   "metadata": {},
   "outputs": [],
   "source": [
    "# Displaying the name, the date the file was created and the last Access time\n",
    "def display_entries_in_working_directory(directory):\n",
    "    with os.scandir(directory) as entries:\n",
    "        for entry in entries:\n",
    "            print(\":\", entry.name)\n",
    "            info = entry.stat()\n",
    "            print(\"Creation Time:\", format_datetime(info.st_birthtime))\n",
    "            print(\"Last Access Time:\", format_datetime(info.st_atime))\n",
    "            print(\"Size:\", info.st_size)\n",
    "\n",
    "display_entries_in_working_directory(folder_path)"
   ]
  },
  {
   "cell_type": "code",
   "execution_count": null,
   "metadata": {},
   "outputs": [],
   "source": [
    "# The directories name:\n",
    "def display_directory(directory):\n",
    "    with os.scandir(directory) as entries:\n",
    "        for entry in entries:\n",
    "            if entry.is_dir():\n",
    "                print(\"One of Philants directories is called :\", entry.name)\n",
    "\n",
    "display_directory(folder_path)"
   ]
  },
  {
   "cell_type": "code",
   "execution_count": null,
   "metadata": {},
   "outputs": [],
   "source": [
    "# The directories name:\n",
    "def display_directory(directory):\n",
    "    with os.scandir(directory) as entries:\n",
    "        for entry in entries:\n",
    "            if entry.is_file():\n",
    "                print(\"One of Philant's Python files is called:\", entry.name)\n",
    "\n",
    "display_directory(folder_path)\n"
   ]
  }
 ],
 "metadata": {
  "kernelspec": {
   "display_name": "Python 3",
   "language": "python",
   "name": "python3"
  },
  "language_info": {
   "codemirror_mode": {
    "name": "ipython",
    "version": 3
   },
   "file_extension": ".py",
   "mimetype": "text/x-python",
   "name": "python",
   "nbconvert_exporter": "python",
   "pygments_lexer": "ipython3",
   "version": "3.12.2"
  }
 },
 "nbformat": 4,
 "nbformat_minor": 2
}
